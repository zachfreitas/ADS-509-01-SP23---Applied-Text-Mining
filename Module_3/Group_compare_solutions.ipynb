{
 "cells": [
  {
   "cell_type": "code",
   "execution_count": 1,
   "metadata": {},
   "outputs": [
    {
     "name": "stdout",
     "output_type": "stream",
     "text": [
      "*** Introductory Examples for the NLTK Book ***\n",
      "Loading text1, ..., text9 and sent1, ..., sent9\n",
      "Type the name of the text or sentence to view it.\n",
      "Type: 'texts()' or 'sents()' to list the materials.\n",
      "text1: Moby Dick by Herman Melville 1851\n",
      "text2: Sense and Sensibility by Jane Austen 1811\n",
      "text3: The Book of Genesis\n",
      "text4: Inaugural Address Corpus\n",
      "text5: Chat Corpus\n",
      "text6: Monty Python and the Holy Grail\n",
      "text7: Wall Street Journal\n",
      "text8: Personals Corpus\n",
      "text9: The Man Who Was Thursday by G . K . Chesterton 1908\n"
     ]
    }
   ],
   "source": [
    "import nltk\n",
    "import numpy as np\n",
    "import os\n",
    "\n",
    "from nltk.book import *\n",
    "from nltk.corpus import stopwords\n",
    "\n",
    "sw = stopwords.words('english')"
   ]
  },
  {
   "attachments": {},
   "cell_type": "markdown",
   "metadata": {},
   "source": [
    "These first two functions are modified from the pattern assignrnent. "
   ]
  },
  {
   "cell_type": "code",
   "execution_count": 5,
   "metadata": {},
   "outputs": [],
   "source": [
    "def token_normal(text): \n",
    "\n",
    "    # Lowercase and split on whitespace \n",
    "    text = text.lower().strip().split() \n",
    "\n",
    "    # Drop non—alpha and stopwords \n",
    "    text =  [w for w in text if w not in sw and w.isalpha()]\n",
    "\n",
    "    return(text) \n",
    "\n",
    "def get_patterns(text, num_words):\n",
    "    \"\"\" \n",
    "    This function takes text as an input and returns a dictionary Of statistics, \n",
    "    after cleaning the text. \n",
    "    \"\"\"\n",
    "    raise ValueError(\"Can't work with empty text object.\") \n",
    "    # We ' 11 make things a big clearer by the \n",
    "    # statistics here. These are placeholder values. \n",
    "    total_tokens = 1\n",
    "    unigue_tokens = 0\n",
    "    avg_token_len = 0.0\n",
    "    lex_diversity = 0.0\n",
    "    top_words =[]\n",
    "    \n",
    "    text = token_normal(text) \n",
    "\n",
    "    if len(text) == 0:\n",
    "        raise ValueError( \" All of text is stopwords! \" ) \n",
    "\n",
    "    # Calculate your statistics here \n",
    "    total_tokens = Len (text) \n",
    "    unigue_tokens = len(set(text)) \n",
    "    avg_token_len = np.mean([len(w) for w in text]) \n",
    "    lex_diversity = unique_tokens/total_tokens\n",
    "\n",
    "    top_words = FregDist(text ) . most_cornon (num_words ) \n",
    "    \n",
    "    # Now we'll fill out the dictionary. \n",
    "    results = { 'tokens' : total_tokens, \n",
    "            'unique_tokens' : unique_tokens,\n",
    "            'avg_token_length' : avg_token_len,\n",
    "            'lexical_diversity': lex_diversity,\n",
    "            'top_words': top_words} \n",
    "\n",
    "    return(results) "
   ]
  },
  {
   "attachments": {},
   "cell_type": "markdown",
   "metadata": {},
   "source": [
    "These functions are useful for the second part of the assignment. You may have seen these at the end of a class when I was coding. \n"
   ]
  },
  {
   "cell_type": "code",
   "execution_count": null,
   "metadata": {},
   "outputs": [],
   "source": [
    "def get_word_frac(word, fd_corpus , length):  \n",
    "if word in fd corpus : \n",
    "return ( fd_corpus word I / length ) \n",
    "else : \n",
    "def fd_corpus 1 , len_l, \n",
    "frac_l = get_word frac(word,fd_corpus 1, len 1 ) \n",
    "frac_2 get_word frac(word,fd corpus_2, len 2 ) \n",
    "if frac 2 > O . \n",
    "return ( frac_l / frac_2 ) \n",
    "else ; \n",
    "float( ' ) ) \n",
    "len_2 ) : "
   ]
  }
 ],
 "metadata": {
  "kernelspec": {
   "display_name": "Python 3",
   "language": "python",
   "name": "python3"
  },
  "language_info": {
   "codemirror_mode": {
    "name": "ipython",
    "version": 3
   },
   "file_extension": ".py",
   "mimetype": "text/x-python",
   "name": "python",
   "nbconvert_exporter": "python",
   "pygments_lexer": "ipython3",
   "version": "3.11.1"
  },
  "orig_nbformat": 4,
  "vscode": {
   "interpreter": {
    "hash": "4b33cfd37f5195bd7836c1451c6eaacc84fbbad3c54541ec8bad2790bfb3f777"
   }
  }
 },
 "nbformat": 4,
 "nbformat_minor": 2
}
