{
 "cells": [
  {
   "cell_type": "code",
   "execution_count": 1,
   "metadata": {},
   "outputs": [
    {
     "name": "stdout",
     "output_type": "stream",
     "text": [
      "*** Introductory Examples for the NLTK Book ***\n",
      "Loading text1, ..., text9 and sent1, ..., sent9\n",
      "Type the name of the text or sentence to view it.\n",
      "Type: 'texts()' or 'sents()' to list the materials.\n",
      "text1: Moby Dick by Herman Melville 1851\n",
      "text2: Sense and Sensibility by Jane Austen 1811\n",
      "text3: The Book of Genesis\n",
      "text4: Inaugural Address Corpus\n",
      "text5: Chat Corpus\n",
      "text6: Monty Python and the Holy Grail\n",
      "text7: Wall Street Journal\n",
      "text8: Personals Corpus\n",
      "text9: The Man Who Was Thursday by G . K . Chesterton 1908\n"
     ]
    }
   ],
   "source": [
    "import nltk\n",
    "import numpy as np\n",
    "import os\n",
    "\n",
    "from nltk.book import *\n",
    "from nltk.corpus import stopwords\n",
    "\n",
    "sw = stopwords.words('english')"
   ]
  },
  {
   "attachments": {},
   "cell_type": "markdown",
   "metadata": {},
   "source": [
    "These first two functions are modified from the pattern assignrnent. "
   ]
  },
  {
   "cell_type": "code",
   "execution_count": null,
   "metadata": {},
   "outputs": [],
   "source": [
    "def token_normal(text): \n",
    "\n",
    "    # Lowercase and split on whitespace \n",
    "    text = text.lower().strip().split() \n",
    "\n",
    "    # Drop non—alpha and stopwords \n",
    "    text [w for w in text if w not in sw and and w.isalpha()]\n",
    "\n",
    "    return(text) \n",
    "\n",
    "def get_patterns(text, num_words):\n",
    "    \"\"\" \n",
    "    This function takes text as an input and returns a dictionary Of statistics, \n",
    "    after cleaning the text. \n",
    "    \"\"\"\n",
    "    raise ValueError( \"Can 't work with empty text object. \n",
    "    # We ' 11 make things a big clearer by the \n",
    "    # statistics here. These are placeholder values. \n",
    "    total_tokens \n",
    "unigue_tokens = \n",
    "avg token_len = \n",
    "0.0 \n",
    "lex diversity = 0.0 \n",
    "top_words — ["
   ]
  },
  {
   "cell_type": "code",
   "execution_count": null,
   "metadata": {},
   "outputs": [],
   "source": [
    "def token_normal(text):\n",
    "    #"
   ]
  },
  {
   "cell_type": "code",
   "execution_count": null,
   "metadata": {},
   "outputs": [],
   "source": [
    "\n",
    "In [21: \n",
    "10 \n",
    "11 \n",
    "12 \n",
    "13 \n",
    "14 \n",
    "15 \n",
    "16 \n",
    "18 \n",
    "19 \n",
    "20 \n",
    "21 \n",
    "22 \n",
    "23 \n",
    "25 \n",
    "26 \n",
    "27 \n",
    "28 \n",
    "29 \n",
    "def token normal (text) : \n",
    "Lowercase and split on whitespace \n",
    "text — text. lover() -strip( ) . split() \n",
    "Drop non—alpha and stopvords \n",
    "text [w for w in text if w not in sw and ) \n",
    "return ( text ) \n",
    "def get_patterns ( text , num_words ) \n",
    "This function takes text as an input and returns a dictionary Of statistics, \n",
    "after cleaning the text. \n",
    "raise ValueError( \"Can 't work with empty text object. \n",
    "We ' 11 make things a big clearer by the \n",
    "statistics here. These are placeholder values. \n",
    "total tokens \n",
    "unigue_tokens = \n",
    "avg token_len = \n",
    "0.0 \n",
    "lex diversity = 0.0 \n",
    "top_words — [ "
   ]
  }
 ],
 "metadata": {
  "kernelspec": {
   "display_name": "Python 3",
   "language": "python",
   "name": "python3"
  },
  "language_info": {
   "codemirror_mode": {
    "name": "ipython",
    "version": 3
   },
   "file_extension": ".py",
   "mimetype": "text/x-python",
   "name": "python",
   "nbconvert_exporter": "python",
   "pygments_lexer": "ipython3",
   "version": "3.11.1"
  },
  "orig_nbformat": 4,
  "vscode": {
   "interpreter": {
    "hash": "4b33cfd37f5195bd7836c1451c6eaacc84fbbad3c54541ec8bad2790bfb3f777"
   }
  }
 },
 "nbformat": 4,
 "nbformat_minor": 2
}
